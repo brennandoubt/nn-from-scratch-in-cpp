{
 "cells": [
  {
   "cell_type": "code",
   "execution_count": 2,
   "metadata": {},
   "outputs": [],
   "source": [
    "import sys\n",
    "import numpy"
   ]
  },
  {
   "cell_type": "code",
   "execution_count": 3,
   "metadata": {},
   "outputs": [],
   "source": [
    "X = [\n",
    "    [1, 2, 3, 2.5],\n",
    "    [2.0, 5.0, -1.0, 2.0],\n",
    "    [-1.5, 2.7, 3.3, -0.8]\n",
    "]\n",
    "\n",
    "class Layer_Dense:\n",
    "    def __init__(self, n_inputs, n_neurons):\n",
    "        # randomly initializing layer's weights (trying for range -0.1, +0.1)\n",
    "        self.weights = 0.10 * numpy.random.randn(n_inputs, n_neurons) # returns array of shape (n_inputs, n_neurons) for the weights array\n",
    "        self.biases = numpy.zeros((1, n_neurons)) # returns array of shape (1, n_neurons) filled with zeros for the biases array\n",
    "    def forward(self, inputs):\n",
    "        self.output = numpy.dot(inputs, self.weights) + self.biases\n",
    "\n",
    "class Activation_ReLU:\n",
    "    def forward(self, inputs):\n",
    "        self.output = numpy.maximum(0, inputs)"
   ]
  },
  {
   "cell_type": "code",
   "execution_count": 7,
   "metadata": {},
   "outputs": [
    {
     "name": "stdout",
     "output_type": "stream",
     "text": [
      "[[ 0.44717824 -0.7859664  -0.10983617  0.35750269  0.30768287]\n",
      " [ 0.31954115  0.15985204 -0.35544089  0.76572697  0.07326083]\n",
      " [ 0.02300985 -0.51765055  0.16446377  0.11163865 -0.51881834]]\n",
      "[[0.44717824 0.         0.         0.35750269 0.30768287]\n",
      " [0.31954115 0.15985204 0.         0.76572697 0.07326083]\n",
      " [0.02300985 0.         0.16446377 0.11163865 0.        ]]\n",
      "[[ 0.02991967 -0.02537532]\n",
      " [ 0.05005311 -0.0374718 ]\n",
      " [ 0.01931216 -0.00223106]]\n",
      "[[0.02991967 0.        ]\n",
      " [0.05005311 0.        ]\n",
      " [0.01931216 0.        ]]\n"
     ]
    }
   ],
   "source": [
    "def test1():\n",
    "    layer1 = Layer_Dense(4, 5)\n",
    "    layer1.forward(X)\n",
    "    print(layer1.output)\n",
    "\n",
    "    activation1 = Activation_ReLU()\n",
    "    activation1.forward(layer1.output)\n",
    "    print(activation1.output)\n",
    "\n",
    "    layer2 = Layer_Dense(5, 2)\n",
    "    layer2.forward(activation1.output)\n",
    "    print(layer2.output)\n",
    "\n",
    "    activation2 = Activation_ReLU()\n",
    "    activation2.forward(layer2.output)\n",
    "    print(activation2.output)\n",
    "\n",
    "test1()"
   ]
  },
  {
   "cell_type": "code",
   "execution_count": null,
   "metadata": {},
   "outputs": [],
   "source": []
  }
 ],
 "metadata": {
  "kernelspec": {
   "display_name": "Python 3.10.6 64-bit",
   "language": "python",
   "name": "python3"
  },
  "language_info": {
   "codemirror_mode": {
    "name": "ipython",
    "version": 3
   },
   "file_extension": ".py",
   "mimetype": "text/x-python",
   "name": "python",
   "nbconvert_exporter": "python",
   "pygments_lexer": "ipython3",
   "version": "3.10.6"
  },
  "orig_nbformat": 4,
  "vscode": {
   "interpreter": {
    "hash": "b0fa6594d8f4cbf19f97940f81e996739fb7646882a419484c72d19e05852a7e"
   }
  }
 },
 "nbformat": 4,
 "nbformat_minor": 2
}
